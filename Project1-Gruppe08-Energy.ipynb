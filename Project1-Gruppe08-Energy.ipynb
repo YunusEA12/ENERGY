{
 "cells": [
  {
   "cell_type": "markdown",
   "metadata": {},
   "source": [
    "# Project 1\n",
    "Yunus Emre Altun, Fabian Milla\n",
    "\n",
    "**Dataset:**\n",
    "[Energy Efficiency](https://archive.ics.uci.edu/dataset/242/energy+efficiency)"
   ]
  },
  {
   "cell_type": "markdown",
   "metadata": {},
   "source": [
    "**1.** Business understanding and data collection  \n",
    "   *a)* Inform yourself about the listed datasets. What are they about? What are the analysis goals?  \n",
    "   *b)* Select the dataset that interests you the most. Create a python notebook and describe your understanding about the dataset.  \n",
    "   *c)* Download the data and save it in a pandas data frame."
   ]
  },
  {
   "cell_type": "markdown",
   "metadata": {},
   "source": [
    "**Answer 1**  \n",
    "*a)* The data deals with the energy efficiency of buildings, focusing on heating and cooling loads in relation to different building shapes. The dataset includes 8 input features wich describe the physical and structural properties of buildings. The goal of the analysis is to predict two target variables: heating load (Y1) and cooling load (Y2)  \n",
    "*c)*  First import libraries, then create a new directory to save the dataset, and finally get the data from the URL."
   ]
  },
  {
   "cell_type": "code",
   "execution_count": 2,
   "metadata": {},
   "outputs": [],
   "source": [
    "from pathlib import Path\n",
    "import pandas as pd\n",
    "import urllib.request\n",
    "\n",
    "excel_path = Path(\"datasets/energy_efficiency.xlsx\")\n",
    "\n",
    "# Does data exist already \n",
    "if not excel_path.is_file():\n",
    "    # create directory if it does not exist\n",
    "    Path(\"datasets\").mkdir(parents=True, exist_ok=True)\n",
    "    url = \"https://archive.ics.uci.edu/ml/machine-learning-databases/00242/ENB2012_data.xlsx\"\n",
    "    # download data\n",
    "    urllib.request.urlretrieve(url, excel_path)\n",
    "   \n",
    "# load data in pandas dataframe\n",
    "data = pd.read_excel(excel_path)"
   ]
  },
  {
   "cell_type": "code",
   "execution_count": null,
   "metadata": {},
   "outputs": [
    {
     "data": {
      "text/html": [
       "<div>\n",
       "<style scoped>\n",
       "    .dataframe tbody tr th:only-of-type {\n",
       "        vertical-align: middle;\n",
       "    }\n",
       "\n",
       "    .dataframe tbody tr th {\n",
       "        vertical-align: top;\n",
       "    }\n",
       "\n",
       "    .dataframe thead th {\n",
       "        text-align: right;\n",
       "    }\n",
       "</style>\n",
       "<table border=\"1\" class=\"dataframe\">\n",
       "  <thead>\n",
       "    <tr style=\"text-align: right;\">\n",
       "      <th></th>\n",
       "      <th>X1</th>\n",
       "      <th>X2</th>\n",
       "      <th>X3</th>\n",
       "      <th>X4</th>\n",
       "      <th>X5</th>\n",
       "      <th>X6</th>\n",
       "      <th>X7</th>\n",
       "      <th>X8</th>\n",
       "      <th>Y1</th>\n",
       "      <th>Y2</th>\n",
       "    </tr>\n",
       "  </thead>\n",
       "  <tbody>\n",
       "    <tr>\n",
       "      <th>0</th>\n",
       "      <td>0.98</td>\n",
       "      <td>514.5</td>\n",
       "      <td>294.0</td>\n",
       "      <td>110.25</td>\n",
       "      <td>7.0</td>\n",
       "      <td>2</td>\n",
       "      <td>0.0</td>\n",
       "      <td>0</td>\n",
       "      <td>15.55</td>\n",
       "      <td>21.33</td>\n",
       "    </tr>\n",
       "    <tr>\n",
       "      <th>1</th>\n",
       "      <td>0.98</td>\n",
       "      <td>514.5</td>\n",
       "      <td>294.0</td>\n",
       "      <td>110.25</td>\n",
       "      <td>7.0</td>\n",
       "      <td>3</td>\n",
       "      <td>0.0</td>\n",
       "      <td>0</td>\n",
       "      <td>15.55</td>\n",
       "      <td>21.33</td>\n",
       "    </tr>\n",
       "    <tr>\n",
       "      <th>2</th>\n",
       "      <td>0.98</td>\n",
       "      <td>514.5</td>\n",
       "      <td>294.0</td>\n",
       "      <td>110.25</td>\n",
       "      <td>7.0</td>\n",
       "      <td>4</td>\n",
       "      <td>0.0</td>\n",
       "      <td>0</td>\n",
       "      <td>15.55</td>\n",
       "      <td>21.33</td>\n",
       "    </tr>\n",
       "    <tr>\n",
       "      <th>3</th>\n",
       "      <td>0.98</td>\n",
       "      <td>514.5</td>\n",
       "      <td>294.0</td>\n",
       "      <td>110.25</td>\n",
       "      <td>7.0</td>\n",
       "      <td>5</td>\n",
       "      <td>0.0</td>\n",
       "      <td>0</td>\n",
       "      <td>15.55</td>\n",
       "      <td>21.33</td>\n",
       "    </tr>\n",
       "    <tr>\n",
       "      <th>4</th>\n",
       "      <td>0.90</td>\n",
       "      <td>563.5</td>\n",
       "      <td>318.5</td>\n",
       "      <td>122.50</td>\n",
       "      <td>7.0</td>\n",
       "      <td>2</td>\n",
       "      <td>0.0</td>\n",
       "      <td>0</td>\n",
       "      <td>20.84</td>\n",
       "      <td>28.28</td>\n",
       "    </tr>\n",
       "  </tbody>\n",
       "</table>\n",
       "</div>"
      ],
      "text/plain": [
       "     X1     X2     X3      X4   X5  X6   X7  X8     Y1     Y2\n",
       "0  0.98  514.5  294.0  110.25  7.0   2  0.0   0  15.55  21.33\n",
       "1  0.98  514.5  294.0  110.25  7.0   3  0.0   0  15.55  21.33\n",
       "2  0.98  514.5  294.0  110.25  7.0   4  0.0   0  15.55  21.33\n",
       "3  0.98  514.5  294.0  110.25  7.0   5  0.0   0  15.55  21.33\n",
       "4  0.90  563.5  318.5  122.50  7.0   2  0.0   0  20.84  28.28"
      ]
     },
     "execution_count": 3,
     "metadata": {},
     "output_type": "execute_result"
    }
   ],
   "source": [
    "# print data to get an idea of what it looks like\n",
    "data.head()"
   ]
  },
  {
   "cell_type": "markdown",
   "metadata": {},
   "source": [
    "**2.** Data exploration  \n",
    "a) How many variables and instances does the dataset contain?  \n",
    "b) Do the variables have understandable names? If not, think about renaming.  \n",
    "c) Explore the data statistically and visually. How is the data distributed?  \n",
    "d) Do you observe any correlations? If yes, between which variables?  "
   ]
  },
  {
   "cell_type": "markdown",
   "metadata": {},
   "source": [
    "**Answer 2**  \n",
    "*a)* The dataset contains 10 variables, 8 features, 2 targets, and 768 instances.  \n",
    "*b)* The variables have understandable names. Only the orientation could be a bit confusing because integers were used instead of north, south, etc.  \n",
    "*c)* get first impressions with info()  "
   ]
  },
  {
   "cell_type": "code",
   "execution_count": 4,
   "metadata": {},
   "outputs": [
    {
     "name": "stdout",
     "output_type": "stream",
     "text": [
      "<class 'pandas.core.frame.DataFrame'>\n",
      "RangeIndex: 768 entries, 0 to 767\n",
      "Data columns (total 10 columns):\n",
      " #   Column  Non-Null Count  Dtype  \n",
      "---  ------  --------------  -----  \n",
      " 0   X1      768 non-null    float64\n",
      " 1   X2      768 non-null    float64\n",
      " 2   X3      768 non-null    float64\n",
      " 3   X4      768 non-null    float64\n",
      " 4   X5      768 non-null    float64\n",
      " 5   X6      768 non-null    int64  \n",
      " 6   X7      768 non-null    float64\n",
      " 7   X8      768 non-null    int64  \n",
      " 8   Y1      768 non-null    float64\n",
      " 9   Y2      768 non-null    float64\n",
      "dtypes: float64(8), int64(2)\n",
      "memory usage: 60.1 KB\n"
     ]
    }
   ],
   "source": [
    "data.info()"
   ]
  },
  {
   "cell_type": "code",
   "execution_count": null,
   "metadata": {},
   "outputs": [],
   "source": [
    "data.describe()"
   ]
  },
  {
   "cell_type": "markdown",
   "metadata": {},
   "source": [
    "**3.** Data preparation  \n",
    "a) Is data cleaning needed?  \n",
    "b) Is data encoding needed?  \n",
    "c) Do you think any further feature engineering would be useful?  \n",
    "d) Split the data into data subsets.  \n",
    "e) Is feature scaling needed?  \n"
   ]
  },
  {
   "cell_type": "markdown",
   "metadata": {},
   "source": [
    "**4.** Modelling: Regression (= model 1)  \n",
    "a) Define again the analysis goal. What is the target variable that you want to predict? (Remark - If\n",
    "you use the “energy” dataset: It is enough to predict only one target variable.) Which features\n",
    "do you want to use?  \n",
    "b) Select a model, define a performance metric, select a learning algorithm.  \n",
    "c) Run the learning algorithm. Monitor the learning curves. What do you observe? How is the\n",
    "model performance?  \n",
    "d) Is fine-tuning needed? Try, e.g., other hyperparameters.  \n",
    "e) Try regularization techniques. What is the effect?  \n",
    "f) Save the final model, perform a final evaluation and demonstrate how it can be used for making\n",
    "predictions.\n"
   ]
  },
  {
   "cell_type": "markdown",
   "metadata": {},
   "source": [
    "**5.** Modelling: Classification (= model 2)  \n",
    "a) Define again the analysis goal. What is the target variable that you want to predict? Which features do you want to use?  \n",
    "i. Remark - If you use the “bike” or the “energy” dataset: You first need to create a categorical class variable by binning the originally continuous target variable. You can use the code below for that.  \n",
    "b) Train a logistic regression model for multinomial classification.  \n",
    "c) Evaluate the performance on the train and the validation subset. Which performance measures do you use, and why? How good is the performance? Is the performance similar for all classes?  \n",
    "d) Do you have any idea, if something coul d be improved for the classification model?  \n",
    "i. If yes, make those adaptations and train a new classification model. Afterwards measure the performance on the validation set. Has the performance improved?  \n",
    "e) Optional: Train another type of a classification model (e.g., decision tree, or SVM).  \n",
    "f) Select your best classification model (from b), d), and e)) and measure the performance on the\n",
    "test subset.\n"
   ]
  },
  {
   "cell_type": "markdown",
   "metadata": {},
   "source": [
    "**6.** Comparison of regression (model 1) and classification (model 2)  \n",
    "a) Describe advantages of the regression model, and advantages of the classification model.  \n",
    "b) Which of the two models is more suited for the original analysis goal?"
   ]
  },
  {
   "cell_type": "markdown",
   "metadata": {},
   "source": []
  }
 ],
 "metadata": {
  "kernelspec": {
   "display_name": "Python 3",
   "language": "python",
   "name": "python3"
  },
  "language_info": {
   "codemirror_mode": {
    "name": "ipython",
    "version": 3
   },
   "file_extension": ".py",
   "mimetype": "text/x-python",
   "name": "python",
   "nbconvert_exporter": "python",
   "pygments_lexer": "ipython3",
   "version": "3.12.6"
  }
 },
 "nbformat": 4,
 "nbformat_minor": 2
}
