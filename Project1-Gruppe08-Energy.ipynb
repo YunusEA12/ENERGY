{
 "cells": [
  {
   "cell_type": "markdown",
   "metadata": {},
   "source": [
    "# Project 1\n",
    "Yunus Emre Altun, Fabian Milla\n",
    "\n",
    "**Dataset:**\n",
    "[Energy Efficiency](https://archive.ics.uci.edu/dataset/242/energy+efficiency)"
   ]
  },
  {
   "cell_type": "markdown",
   "metadata": {},
   "source": [
    "**1.** Business understanding and data collection  \n",
    "   *a)* Inform yourself about the listed datasets. What are they about? What are the analysis goals?  \n",
    "   *b)* Select the dataset that interests you the most. Create a python notebook and describe your understanding about the dataset.  \n",
    "   *c)* Download the data and save it in a pandas data frame."
   ]
  },
  {
   "cell_type": "markdown",
   "metadata": {},
   "source": [
    "**Antwort 1**  \n",
    "**a)** The data deals with the energy efficiency of buildings, focusing on heating and cooling loads in relation to different building parameters  \n",
    "**b)**  \n",
    "**c)**  "
   ]
  },
  {
   "cell_type": "markdown",
   "metadata": {},
   "source": [
    "**2.** Data exploration  \n",
    "a) How many variables and instances does the dataset contain?  \n",
    "b) Do the variables have understandable names? If not, think about renaming.  \n",
    "c) Explore the data statistically and visually. How is the data distributed?  \n",
    "d) Do you observe any correlations? If yes, between which variables?  "
   ]
  },
  {
   "cell_type": "markdown",
   "metadata": {},
   "source": [
    "**3.** Data preparation  \n",
    "a) Is data cleaning needed?  \n",
    "b) Is data encoding needed?  \n",
    "c) Do you think any further feature engineering would be useful?  \n",
    "d) Split the data into data subsets.  \n",
    "e) Is feature scaling needed?  \n"
   ]
  },
  {
   "cell_type": "markdown",
   "metadata": {},
   "source": [
    "**4.** Modelling: Regression (= model 1)  \n",
    "a) Define again the analysis goal. What is the target variable that you want to predict? (Remark - If\n",
    "you use the “energy” dataset: It is enough to predict only one target variable.) Which features\n",
    "do you want to use?  \n",
    "b) Select a model, define a performance metric, select a learning algorithm.  \n",
    "c) Run the learning algorithm. Monitor the learning curves. What do you observe? How is the\n",
    "model performance?  \n",
    "d) Is fine-tuning needed? Try, e.g., other hyperparameters.  \n",
    "e) Try regularization techniques. What is the effect?  \n",
    "f) Save the final model, perform a final evaluation and demonstrate how it can be used for making\n",
    "predictions.\n"
   ]
  },
  {
   "cell_type": "markdown",
   "metadata": {},
   "source": [
    "**5.** Modelling: Classification (= model 2)  \n",
    "a) Define again the analysis goal. What is the target variable that you want to predict? Which features do you want to use?  \n",
    "i. Remark - If you use the “bike” or the “energy” dataset: You first need to create a categorical class variable by binning the originally continuous target variable. You can use the code below for that.  \n",
    "b) Train a logistic regression model for multinomial classification.  \n",
    "c) Evaluate the performance on the train and the validation subset. Which performance measures do you use, and why? How good is the performance? Is the performance similar for all classes?  \n",
    "d) Do you have any idea, if something coul d be improved for the classification model?  \n",
    "i. If yes, make those adaptations and train a new classification model. Afterwards measure the performance on the validation set. Has the performance improved?  \n",
    "e) Optional: Train another type of a classification model (e.g., decision tree, or SVM).  \n",
    "f) Select your best classification model (from b), d), and e)) and measure the performance on the\n",
    "test subset.\n"
   ]
  },
  {
   "cell_type": "markdown",
   "metadata": {},
   "source": [
    "**6.** Comparison of regression (model 1) and classification (model 2)  \n",
    "a) Describe advantages of the regression model, and advantages of the classification model.  \n",
    "b) Which of the two models is more suited for the original analysis goal?"
   ]
  },
  {
   "cell_type": "markdown",
   "metadata": {},
   "source": []
  }
 ],
 "metadata": {
  "language_info": {
   "name": "python"
  }
 },
 "nbformat": 4,
 "nbformat_minor": 2
}
