{
 "cells": [
  {
   "cell_type": "markdown",
   "metadata": {},
   "source": [
    "**1**\n",
    "*a*\n",
    "\n",
    "Die Daten behandeln die Energie Effizienz von Häusern, es wird die Heiz- und Kühllast in bezug auf unterschiedliche Gebäude parameter"
   ]
  }
 ],
 "metadata": {
  "language_info": {
   "name": "python"
  }
 },
 "nbformat": 4,
 "nbformat_minor": 2
}
